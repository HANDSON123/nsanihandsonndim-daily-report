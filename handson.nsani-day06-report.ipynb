{
 "cells": [
  {
   "cell_type": "markdown",
   "id": "relevant-specification",
   "metadata": {},
   "source": [
    "# 1 SUMMATION AND PRODUCTS"
   ]
  },
  {
   "cell_type": "markdown",
   "id": "younger-experience",
   "metadata": {},
   "source": [
    "## 1) We are going to compute the expression given"
   ]
  },
  {
   "cell_type": "markdown",
   "id": "wooden-freedom",
   "metadata": {},
   "source": [
    "###  The sum of odd i and the product of even i in a simple python code"
   ]
  },
  {
   "cell_type": "code",
   "execution_count": 9,
   "id": "imperial-platinum",
   "metadata": {},
   "outputs": [
    {
     "name": "stdout",
     "output_type": "stream",
     "text": [
      "Enter a natural number: 23\n",
      "Enter even or odd: e\n",
      "Enter even or odd: e\n",
      "Enter even or odd: we\n",
      "Enter even or odd: rt\n",
      "Enter even or odd: we\n",
      "Enter even or odd: odd\n",
      "154\n"
     ]
    }
   ],
   "source": [
    "n=int(input(\"Enter a natural number: \"))\n",
    "sum_1=0\n",
    "produc=1\n",
    "while True:\n",
    "    x=input(\"Enter even or odd: \")#asking if the user want to calculate the sum or the product\n",
    "    if x==\"even\" or x==\"odd\":\n",
    "        break\n",
    "if x==\"odd\":                       #computation of the sum for i odd if the user enter odd\n",
    "    for i in range(n):\n",
    "        if i%2!=0:\n",
    "            sum_1=sum_1+i+3\n",
    "    print(sum_1)\n",
    "else:                               #computation of the product for i even if the user enter even\n",
    "    for i in range(n):\n",
    "        if i%2==0:\n",
    "            produc=produc*(i+3)\n",
    "    print(produc)\n",
    "        \n"
   ]
  },
  {
   "cell_type": "markdown",
   "id": "hollow-connectivity",
   "metadata": {},
   "source": [
    "## 2) Days of the week"
   ]
  },
  {
   "cell_type": "code",
   "execution_count": null,
   "id": "wound-johnson",
   "metadata": {},
   "outputs": [],
   "source": [
    "days=[\"Sunday\",\"Monday\",\"Tuesday\",\"Wenesday\",\"Thursday\",\"Friday\",\"Satuday\"]\n",
    "while True:\n",
    "    n=int(input(\"Enter a number between 0 and 6: \"))\n",
    "    if n<=6:\n",
    "        break\n",
    "if n==0 or n==6:\n",
    "    print(\"Weekend\")\n",
    "else:\n",
    "    print(days[n])"
   ]
  },
  {
   "cell_type": "markdown",
   "id": "varied-segment",
   "metadata": {},
   "source": [
    "## 3)Number of days in a month"
   ]
  },
  {
   "cell_type": "code",
   "execution_count": null,
   "id": "matched-basic",
   "metadata": {},
   "outputs": [],
   "source": [
    "months=[\"January has 31 days\",\"Febuary has 28 days\",\"March has 31 days\",\"April has 30 days\",\"May has 31 days\", \"Jun has 30 days\",\"July has 31 days\",\"August has 31 days\",\"September has 30 days\",\"October has 31 days\",\"November has 30 days\",\"December has 31 days\"]\n",
    "while True:\n",
    "    n=int(input(\"Enter a number between 0 and 11\"))\n",
    "    if n<=11:\n",
    "        break\n",
    "print(months[n])"
   ]
  },
  {
   "cell_type": "markdown",
   "id": "active-plastic",
   "metadata": {},
   "source": [
    "## 4) Prin my name"
   ]
  },
  {
   "cell_type": "code",
   "execution_count": null,
   "id": "documentary-charlotte",
   "metadata": {},
   "outputs": [],
   "source": [
    "#Using for loop\n",
    "for i in range(3):\n",
    "    print(\"NSANI HANDSON NDIM\")\n"
   ]
  },
  {
   "cell_type": "code",
   "execution_count": null,
   "id": "russian-nursery",
   "metadata": {},
   "outputs": [],
   "source": [
    "#Using while loop\n",
    "n=1\n",
    "while n<=3:\n",
    "    print(\"NSANI HANDSON NDIM\")\n",
    "    n=n+1"
   ]
  },
  {
   "cell_type": "markdown",
   "id": "modified-ceiling",
   "metadata": {},
   "source": [
    "## 5) Fibonacci sequence"
   ]
  },
  {
   "cell_type": "code",
   "execution_count": null,
   "id": "metropolitan-groove",
   "metadata": {},
   "outputs": [],
   "source": [
    "a=int(input(\"Enter the first number of the sequence\"))\n",
    "b=int(input(\"Enter the second number of the sequence\"))\n",
    "print(a)\n",
    "print(b)\n",
    "for i in range(13):\n",
    "    c=b+a\n",
    "    print(c)\n",
    "    a=b\n",
    "    b=c"
   ]
  },
  {
   "cell_type": "markdown",
   "id": "motivated-direction",
   "metadata": {},
   "source": [
    "## 6) Let's compute the first 30 terms of a given sequence"
   ]
  },
  {
   "cell_type": "code",
   "execution_count": null,
   "id": "together-judgment",
   "metadata": {},
   "outputs": [],
   "source": [
    "x_1=int(input(\"Enter the first number of the sequence: \"))\n",
    "x_2=int(input(\"Enter the second number of the sequence: \"))\n",
    "for i in range(30):\n",
    "    x_3=(1/2)*x_2+3*x_1\n",
    "    print(x_3)\n",
    "    x_1=x_2\n",
    "    x_2=x_3"
   ]
  },
  {
   "cell_type": "markdown",
   "id": "distant-october",
   "metadata": {},
   "source": [
    "## 7)a) A python code to determine whether or not  is a leap year"
   ]
  },
  {
   "cell_type": "code",
   "execution_count": 40,
   "id": "quality-reporter",
   "metadata": {},
   "outputs": [
    {
     "name": "stdout",
     "output_type": "stream",
     "text": [
      "Enter a year: 24\n",
      "24 is a leap year\n"
     ]
    }
   ],
   "source": [
    "n=int(input(\"Enter a year: \"))\n",
    "if (n%4==0 and n%100!=0) or (n%100==0 and n%400==0) :\n",
    "    print(n, \"is a leap year\")\n",
    "else: \n",
    "    print(n, \"is not a leap year\")"
   ]
  },
  {
   "cell_type": "markdown",
   "id": "greek-singapore",
   "metadata": {},
   "source": [
    "## 7)b) Let's write the code using only logical operators"
   ]
  },
  {
   "cell_type": "code",
   "execution_count": 49,
   "id": "fallen-binary",
   "metadata": {},
   "outputs": [
    {
     "name": "stdout",
     "output_type": "stream",
     "text": [
      "Enter a year: 4\n",
      "not a leap year\n"
     ]
    }
   ],
   "source": [
    "n=int(input(\"Enter a year: \"))\n",
    "print(((x%400==0) or (x%4==0 and x%100!=0)) and \"is a leap year\" or \"not a leap year\")"
   ]
  },
  {
   "cell_type": "markdown",
   "id": "large-romantic",
   "metadata": {},
   "source": [
    "## 8)a) A python code that compute the sum of square of the n first natural numbers"
   ]
  },
  {
   "cell_type": "code",
   "execution_count": 7,
   "id": "raising-attitude",
   "metadata": {},
   "outputs": [
    {
     "name": "stdout",
     "output_type": "stream",
     "text": [
      "Enter a natural number: 12\n",
      "The sum of square of 12 natural numbers is 650\n"
     ]
    }
   ],
   "source": [
    "#Using while loop\n",
    "n=int(input(\"Enter a natural number: \"))\n",
    "i=1\n",
    "sum_2=0\n",
    "while i<=n:\n",
    "    sum_2=sum_2+i*i\n",
    "    i=i+1\n",
    "print(\"The sum of square of\",n,\"natural numbers is\", sum_2)"
   ]
  },
  {
   "cell_type": "code",
   "execution_count": null,
   "id": "interested-russian",
   "metadata": {},
   "outputs": [],
   "source": [
    "#Using for loop\n",
    "n=int(input(\"Enter a natural number: \"))\n",
    "sum_3=0\n",
    "for i in range(n+1):\n",
    "    sum_3=sum_3+i*i\n",
    "print(\"The sum of square of\",n,\"natural numbers is\", sum_3)"
   ]
  },
  {
   "cell_type": "markdown",
   "id": "surprising-description",
   "metadata": {},
   "source": [
    "## 8)b) A python code to print n such that the sum of square of the n first terms is less than M, where M is an input."
   ]
  },
  {
   "cell_type": "code",
   "execution_count": 20,
   "id": "interesting-danish",
   "metadata": {},
   "outputs": [
    {
     "name": "stdout",
     "output_type": "stream",
     "text": [
      "Enter a natural number: 10\n",
      "3\n"
     ]
    }
   ],
   "source": [
    "#Using while loop\n",
    "M=int(input(\"Enter a natural number: \"))\n",
    "sum_3=0\n",
    "i=1\n",
    "count=0\n",
    "while sum_3<M:\n",
    "    i=i+1\n",
    "    sum_3=sum_3+i*i\n",
    "print(i, \"is the least value\")"
   ]
  },
  {
   "cell_type": "code",
   "execution_count": 31,
   "id": "minimal-blond",
   "metadata": {},
   "outputs": [
    {
     "name": "stdout",
     "output_type": "stream",
     "text": [
      "Enter a natural number: 10\n",
      "3 is the least value\n"
     ]
    }
   ],
   "source": [
    "#Using for loop\n",
    "M=int(input(\"Enter a natural number: \"))\n",
    "sum_4=0\n",
    "for i in range(M):\n",
    "    sum_4=sum_4+i*i\n",
    "    if sum_4>=M:\n",
    "        break\n",
    "print(i, \"is the least value\")"
   ]
  },
  {
   "cell_type": "markdown",
   "id": "fleet-conference",
   "metadata": {},
   "source": [
    "## 9)a) Print the divisors of a given number"
   ]
  },
  {
   "cell_type": "code",
   "execution_count": 2,
   "id": "iraqi-microwave",
   "metadata": {},
   "outputs": [
    {
     "name": "stdout",
     "output_type": "stream",
     "text": [
      "Enter a nutural number: 10\n",
      "1 is a divisor of 10\n",
      "2 is a divisor of 10\n",
      "5 is a divisor of 10\n",
      "10 is a divisor of 10\n"
     ]
    }
   ],
   "source": [
    "n=int(input(\"Enter a nutural number: \"))\n",
    "i=1\n",
    "while i<=n:\n",
    "    if n%i==0:\n",
    "        print(i, \"is a divisor of\", n)\n",
    "    i=i+1"
   ]
  },
  {
   "cell_type": "markdown",
   "id": "southwest-float",
   "metadata": {},
   "source": [
    "## 10) Multiplication table of a given integer"
   ]
  },
  {
   "cell_type": "code",
   "execution_count": null,
   "id": "measured-snapshot",
   "metadata": {},
   "outputs": [],
   "source": [
    "while True:\n",
    "    n=int(input(\"Entre un nombre entre 0 et 9: \"))\n",
    "    if n<=9:\n",
    "        break\n",
    "N=int(input(\"Enter another natural number: \"))\n",
    "for i in range(N+1):\n",
    "    print(\"{} x {}={} \".format(i,n,i*n))"
   ]
  },
  {
   "cell_type": "markdown",
   "id": "major-wisconsin",
   "metadata": {},
   "source": [
    "## 11) A program that print the multiple of 3, 7 or 11 between 0 and 40"
   ]
  },
  {
   "cell_type": "code",
   "execution_count": null,
   "id": "impaired-cardiff",
   "metadata": {},
   "outputs": [],
   "source": [
    "for i in range(41):\n",
    "    if (i%3==0) or (i%7==0) or (i%11==0):\n",
    "        i=str(i)\n",
    "        print(i+\" \"+\"is either a multiple of 3,7 or 11 between 0 and 40\")"
   ]
  },
  {
   "cell_type": "markdown",
   "id": "private-cause",
   "metadata": {},
   "source": [
    "## 12) A program to print the floor of a given number x"
   ]
  },
  {
   "cell_type": "code",
   "execution_count": 10,
   "id": "dramatic-wichita",
   "metadata": {},
   "outputs": [
    {
     "name": "stdout",
     "output_type": "stream",
     "text": [
      "Enter a number: 23.5\n",
      "23\n"
     ]
    }
   ],
   "source": [
    "x=float(input(\"Enter a number: \"))\n",
    "print(int(x))"
   ]
  },
  {
   "cell_type": "code",
   "execution_count": 16,
   "id": "handy-opinion",
   "metadata": {},
   "outputs": [
    {
     "name": "stdout",
     "output_type": "stream",
     "text": [
      "Entre un nombre entre 0 et 9: 2\n",
      "Enter another natural number: 23\n",
      "0 x 2=0 \n",
      "1 x 2=2 \n",
      "2 x 2=4 \n",
      "3 x 2=6 \n",
      "4 x 2=8 \n",
      "5 x 2=10 \n",
      "6 x 2=12 \n",
      "7 x 2=14 \n",
      "8 x 2=16 \n",
      "9 x 2=18 \n",
      "10 x 2=20 \n",
      "11 x 2=22 \n",
      "12 x 2=24 \n",
      "13 x 2=26 \n",
      "14 x 2=28 \n",
      "15 x 2=30 \n",
      "16 x 2=32 \n",
      "17 x 2=34 \n",
      "18 x 2=36 \n",
      "19 x 2=38 \n",
      "20 x 2=40 \n",
      "21 x 2=42 \n",
      "22 x 2=44 \n",
      "23 x 2=46 \n"
     ]
    }
   ],
   "source": [
    "while True:\n",
    "    n=int(input(\"Entre un nombre entre 0 et 9: \"))\n",
    "    if n<=9:\n",
    "        break\n",
    "N=int(input(\"Enter another natural number: \"))\n",
    "for i in range(N+1):\n",
    "    print(\"{} x {}={} \".format(i,n,i*n))"
   ]
  },
  {
   "cell_type": "markdown",
   "id": "established-poultry",
   "metadata": {},
   "source": [
    "## 14) A program that print all the multiple of x between 0 and MAX"
   ]
  },
  {
   "cell_type": "code",
   "execution_count": 26,
   "id": "blind-financing",
   "metadata": {},
   "outputs": [
    {
     "name": "stdout",
     "output_type": "stream",
     "text": [
      "Enter a number between 0 and 9: 2\n",
      "Enter a number between 0 and 255: 2\n",
      "0  is a multiple of  2 between 0 and  2\n",
      "2  is a multiple of  2 between 0 and  2\n",
      "Do you want to continue?: no\n"
     ]
    }
   ],
   "source": [
    "while True:\n",
    "    while True:\n",
    "        x=int(input(\"Enter a number between 0 and 9: \"))#asked for the number till the user enter the right one\n",
    "        if x<=9:\n",
    "            break\n",
    "    while True:\n",
    "        MAX=int(input(\"Enter a number between 0 and 255: \"))#asked for the number till the user enter the right one\n",
    "        if MAX<=255:\n",
    "            break\n",
    "    for i in range(MAX+1):\n",
    "        if i%x==0:\n",
    "            print(i,\" is a multiple of \", x, \"between 0 and \",MAX)\n",
    "    while True:\n",
    "        y=input(\"Do you want to continue?: \")#saking the user if he want to continue and if the user does not enter yes or no, the code continue asking\n",
    "        if y==\"yes\" or y==\"no\":\n",
    "            break\n",
    "    if y==\"yes\":\n",
    "        continue\n",
    "    else:\n",
    "        break"
   ]
  },
  {
   "cell_type": "code",
   "execution_count": null,
   "id": "narrative-thailand",
   "metadata": {},
   "outputs": [],
   "source": []
  }
 ],
 "metadata": {
  "kernelspec": {
   "display_name": "Python 3",
   "language": "python",
   "name": "python3"
  },
  "language_info": {
   "codemirror_mode": {
    "name": "ipython",
    "version": 3
   },
   "file_extension": ".py",
   "mimetype": "text/x-python",
   "name": "python",
   "nbconvert_exporter": "python",
   "pygments_lexer": "ipython3",
   "version": "3.9.2"
  }
 },
 "nbformat": 4,
 "nbformat_minor": 5
}
