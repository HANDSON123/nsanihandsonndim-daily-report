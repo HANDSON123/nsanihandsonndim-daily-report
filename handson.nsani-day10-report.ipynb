{
 "cells": [
  {
   "cell_type": "markdown",
   "id": "946dcae8",
   "metadata": {},
   "source": [
    "# Practical_6: Numpy"
   ]
  },
  {
   "cell_type": "markdown",
   "id": "noted-mouth",
   "metadata": {},
   "source": [
    "---\n",
    "\n",
    "### Exercise 1:\n",
    "Create a NumPy array of integers from 1 to 10.\n",
    "\n",
    "```python\n",
    "# Exercise 1\n",
    "```\n",
    "\n",
    "---"
   ]
  },
  {
   "cell_type": "code",
   "execution_count": 18,
   "id": "mechanical-myrtle",
   "metadata": {},
   "outputs": [
    {
     "name": "stdout",
     "output_type": "stream",
     "text": [
      "[ 1  2  3  4  5  6  7  8  9 10]\n"
     ]
    },
    {
     "data": {
      "text/plain": [
       "numpy.ndarray"
      ]
     },
     "execution_count": 18,
     "metadata": {},
     "output_type": "execute_result"
    }
   ],
   "source": [
    "import numpy as np\n",
    "n=np.arange(1,11,1)\n",
    "print(n)\n"
   ]
  },
  {
   "cell_type": "code",
   "execution_count": null,
   "id": "answering-novel",
   "metadata": {},
   "outputs": [],
   "source": []
  },
  {
   "cell_type": "markdown",
   "id": "changed-distance",
   "metadata": {},
   "source": [
    "### Exercise 2:\n",
    "Create a 3x3 NumPy array filled with zeros.\n",
    "\n",
    "```python\n",
    "# Exercise 2\n",
    "```\n",
    "\n",
    "---"
   ]
  },
  {
   "cell_type": "code",
   "execution_count": 3,
   "id": "guilty-infection",
   "metadata": {},
   "outputs": [
    {
     "name": "stdout",
     "output_type": "stream",
     "text": [
      "[[0. 0. 0.]\n",
      " [0. 0. 0.]\n",
      " [0. 0. 0.]]\n"
     ]
    }
   ],
   "source": [
    "import numpy as np\n",
    "zero=np.zeros((3,3))\n",
    "print(zero)"
   ]
  },
  {
   "cell_type": "markdown",
   "id": "under-majority",
   "metadata": {},
   "source": [
    "### Exercise 3:\n",
    "Create a NumPy array of 10 evenly spaced numbers between 0 and 5.\n",
    "\n",
    "```python\n",
    "# Exercise 3\n",
    "```\n",
    "\n",
    "---"
   ]
  },
  {
   "cell_type": "code",
   "execution_count": 6,
   "id": "capable-bridal",
   "metadata": {},
   "outputs": [
    {
     "name": "stdout",
     "output_type": "stream",
     "text": [
      "[0.         0.55555556 1.11111111 1.66666667 2.22222222 2.77777778\n",
      " 3.33333333 3.88888889 4.44444444 5.        ]\n"
     ]
    }
   ],
   "source": [
    "import numpy as np\n",
    "z=np.linspace(0,5,10)\n",
    "print(z)"
   ]
  },
  {
   "cell_type": "markdown",
   "id": "marked-pattern",
   "metadata": {},
   "source": [
    "### Exercise 4:\n",
    "Create a 5x5 identity matrix using NumPy.\n",
    "\n",
    "```python\n",
    "# Exercise 4\n",
    "```\n",
    "\n",
    "---"
   ]
  },
  {
   "cell_type": "code",
   "execution_count": 9,
   "id": "broken-arkansas",
   "metadata": {},
   "outputs": [
    {
     "name": "stdout",
     "output_type": "stream",
     "text": [
      "[[1. 0. 0. 0. 0.]\n",
      " [0. 1. 0. 0. 0.]\n",
      " [0. 0. 1. 0. 0.]\n",
      " [0. 0. 0. 1. 0.]\n",
      " [0. 0. 0. 0. 1.]]\n"
     ]
    }
   ],
   "source": [
    "import numpy as np\n",
    "one=np.eye(5)\n",
    "print(one)"
   ]
  },
  {
   "cell_type": "markdown",
   "id": "funky-roommate",
   "metadata": {},
   "source": [
    "### Exercise 5:\n",
    "Create a 4x4 matrix with random values between 0 and 1.\n",
    "\n",
    "```python\n",
    "# Exercise 5\n",
    "```\n",
    "\n",
    "---"
   ]
  },
  {
   "cell_type": "code",
   "execution_count": 15,
   "id": "thirty-demonstration",
   "metadata": {},
   "outputs": [
    {
     "name": "stdout",
     "output_type": "stream",
     "text": [
      "[[0 0 0 0]\n",
      " [1 0 0 1]\n",
      " [0 1 1 1]\n",
      " [1 1 1 1]]\n"
     ]
    }
   ],
   "source": [
    "import numpy as np\n",
    "rand=np.random.randint(2, size=(4,4))\n",
    "print(rand)"
   ]
  },
  {
   "cell_type": "markdown",
   "id": "intense-lighter",
   "metadata": {},
   "source": [
    "### Exercise 6:\n",
    "Find the shape of a NumPy array.\n",
    "\n",
    "```python\n",
    "# Exercise 6\n",
    "```\n",
    "\n",
    "---"
   ]
  },
  {
   "cell_type": "code",
   "execution_count": 17,
   "id": "mechanical-basketball",
   "metadata": {},
   "outputs": [
    {
     "name": "stdout",
     "output_type": "stream",
     "text": [
      "[[1 2 3]\n",
      " [2 3 4]\n",
      " [6 7 8]]\n"
     ]
    },
    {
     "data": {
      "text/plain": [
       "(3, 3)"
      ]
     },
     "execution_count": 17,
     "metadata": {},
     "output_type": "execute_result"
    }
   ],
   "source": [
    "import numpy as np\n",
    "rand=np.array([[1,2,3],[2,3,4],[6,7,8]])\n",
    "print(rand)\n",
    "rand.shape"
   ]
  },
  {
   "cell_type": "markdown",
   "id": "square-cable",
   "metadata": {},
   "source": [
    "### Exercise 7:\n",
    "Reshape a 1D NumPy array of 16 elements into a 4x4 matrix.\n",
    "\n",
    "```python\n",
    "# Exercise 7\n",
    "```\n",
    "\n",
    "---"
   ]
  },
  {
   "cell_type": "code",
   "execution_count": 21,
   "id": "regular-store",
   "metadata": {},
   "outputs": [
    {
     "name": "stdout",
     "output_type": "stream",
     "text": [
      "[ 0  1  2  3  4  5  6  7  8  9 10 11 12 13 14 15]\n"
     ]
    },
    {
     "data": {
      "text/plain": [
       "array([[ 0,  1,  2,  3],\n",
       "       [ 4,  5,  6,  7],\n",
       "       [ 8,  9, 10, 11],\n",
       "       [12, 13, 14, 15]])"
      ]
     },
     "execution_count": 21,
     "metadata": {},
     "output_type": "execute_result"
    }
   ],
   "source": [
    "import numpy as np\n",
    "n=np.arange(16)\n",
    "print(n)\n",
    "n.reshape(4,4)"
   ]
  },
  {
   "cell_type": "markdown",
   "id": "rocky-terrorist",
   "metadata": {},
   "source": [
    "### Exercise 8:\n",
    "Find the data type of the elements in a NumPy array.\n",
    "\n",
    "```python\n",
    "# Exercise 8\n",
    "```\n",
    "\n",
    "---"
   ]
  },
  {
   "cell_type": "code",
   "execution_count": 22,
   "id": "failing-electricity",
   "metadata": {},
   "outputs": [
    {
     "data": {
      "text/plain": [
       "numpy.int64"
      ]
     },
     "execution_count": 22,
     "metadata": {},
     "output_type": "execute_result"
    }
   ],
   "source": [
    "import numpy as np\n",
    "n=np.arange(16)\n",
    "type(n[4])"
   ]
  },
  {
   "cell_type": "markdown",
   "id": "emotional-flexibility",
   "metadata": {},
   "source": [
    "### Exercise 9:\n",
    "Create a NumPy array of integers from 1 to 100 and find all even numbers in the array.\n",
    "\n",
    "```python\n",
    "# Exercise 9\n",
    "```\n",
    "\n",
    "---"
   ]
  },
  {
   "cell_type": "code",
   "execution_count": 40,
   "id": "velvet-costs",
   "metadata": {},
   "outputs": [
    {
     "name": "stdout",
     "output_type": "stream",
     "text": [
      "[  0   1   2   3   4   5   6   7   8   9  10  11  12  13  14  15  16  17\n",
      "  18  19  20  21  22  23  24  25  26  27  28  29  30  31  32  33  34  35\n",
      "  36  37  38  39  40  41  42  43  44  45  46  47  48  49  50  51  52  53\n",
      "  54  55  56  57  58  59  60  61  62  63  64  65  66  67  68  69  70  71\n",
      "  72  73  74  75  76  77  78  79  80  81  82  83  84  85  86  87  88  89\n",
      "  90  91  92  93  94  95  96  97  98  99 100]\n",
      "[0, 2, 4, 6, 8, 10, 12, 14, 16, 18, 20, 22, 24, 26, 28, 30, 32, 34, 36, 38, 40, 42, 44, 46, 48, 50, 52, 54, 56, 58, 60, 62, 64, 66, 68, 70, 72, 74, 76, 78, 80, 82, 84, 86, 88, 90, 92, 94, 96, 98, 100]\n"
     ]
    }
   ],
   "source": [
    "import numpy as np\n",
    "n=np.arange(101)\n",
    "x=[x1 for x1 in n if x1%2==0]\n",
    "print(x)"
   ]
  },
  {
   "cell_type": "markdown",
   "id": "middle-being",
   "metadata": {},
   "source": [
    "### Exercise 10:\n",
    "Generate a 6x6 matrix of random integers between 10 and 50.\n",
    "\n",
    "```python\n",
    "# Exercise 10\n",
    "```\n",
    "\n",
    "---"
   ]
  },
  {
   "cell_type": "code",
   "execution_count": 47,
   "id": "subtle-captain",
   "metadata": {},
   "outputs": [
    {
     "name": "stdout",
     "output_type": "stream",
     "text": [
      "[[26 20 48 30 32 22]\n",
      " [31 33 13 12 43 19]\n",
      " [10 32 47 46 41 29]\n",
      " [27 35 49 33 21 42]\n",
      " [16 24 21 18 32 48]\n",
      " [13 29 41 35 18 41]]\n"
     ]
    }
   ],
   "source": [
    "import numpy as np\n",
    "n=np.random.randint(10,50, size=(6,6))\n",
    "print(n)"
   ]
  },
  {
   "cell_type": "markdown",
   "id": "thousand-harvard",
   "metadata": {},
   "source": [
    "### Exercise 11:\n",
    "Slice a 2D NumPy array to extract a submatrix.\n",
    "\n",
    "```python\n",
    "# Exercise 11\n",
    "```\n",
    "\n",
    "---"
   ]
  },
  {
   "cell_type": "code",
   "execution_count": 67,
   "id": "available-button",
   "metadata": {},
   "outputs": [
    {
     "name": "stdout",
     "output_type": "stream",
     "text": [
      "[0.80343162 0.03353524 0.40000136 0.60668971 0.396108   0.01323681]\n"
     ]
    }
   ],
   "source": [
    "import numpy as np\n",
    "n=np.random.random(30)\n",
    "z=n[0:6]\n",
    "print(z)"
   ]
  },
  {
   "cell_type": "markdown",
   "id": "technical-language",
   "metadata": {},
   "source": [
    "### Exercise 12:\n",
    "Calculate the sum of all elements in a NumPy array.\n",
    "\n",
    "```python\n",
    "# Exercise 12\n",
    "```\n",
    "\n",
    "---"
   ]
  },
  {
   "cell_type": "code",
   "execution_count": 75,
   "id": "isolated-payment",
   "metadata": {},
   "outputs": [
    {
     "name": "stdout",
     "output_type": "stream",
     "text": [
      "1209\n"
     ]
    }
   ],
   "source": [
    "import numpy as np\n",
    "n=np.random.randint(50, size=(6,7))\n",
    "s=np.sum(n)\n",
    "print(s)"
   ]
  },
  {
   "cell_type": "code",
   "execution_count": null,
   "id": "logical-situation",
   "metadata": {},
   "outputs": [],
   "source": []
  },
  {
   "cell_type": "markdown",
   "id": "suffering-month",
   "metadata": {},
   "source": [
    "### Exercise 13:\n",
    "Calculate the mean, median, and standard deviation of a NumPy array.\n",
    "\n",
    "```python\n",
    "# Exercise 13\n",
    "```\n",
    "\n",
    "---"
   ]
  },
  {
   "cell_type": "code",
   "execution_count": 77,
   "id": "coordinated-explosion",
   "metadata": {},
   "outputs": [
    {
     "name": "stdout",
     "output_type": "stream",
     "text": [
      "The mean of [[ 9 31 37 37 18 32  8]\n",
      " [49 12 39 19  5 13 25]\n",
      " [17 37  6 25 44 16 37]\n",
      " [ 1  3 38 44 44 42 38]\n",
      " [26 23 37 10 25  3  0]\n",
      " [45 44  0  9  2  2  9]] is: 22.88095238095238\n",
      "=====================================================\n",
      "\n",
      "The meadian of [[ 9 31 37 37 18 32  8]\n",
      " [49 12 39 19  5 13 25]\n",
      " [17 37  6 25 44 16 37]\n",
      " [ 1  3 38 44 44 42 38]\n",
      " [26 23 37 10 25  3  0]\n",
      " [45 44  0  9  2  2  9]] is: 24.0\n",
      "=====================================================\n",
      "\n",
      "Teh standart deviation of [[ 9 31 37 37 18 32  8]\n",
      " [49 12 39 19  5 13 25]\n",
      " [17 37  6 25 44 16 37]\n",
      " [ 1  3 38 44 44 42 38]\n",
      " [26 23 37 10 25  3  0]\n",
      " [45 44  0  9  2  2  9]] is: 15.661907657559563\n"
     ]
    }
   ],
   "source": [
    "import numpy as np\n",
    "n=np.random.randint(50, size=(6,7))\n",
    "mea=np.mean(n)\n",
    "med=np.median(n)\n",
    "stand=np.std(n)\n",
    "print(\"The mean of\", n, \"is:\", mea)\n",
    "print(\"=====================================================\\n\")\n",
    "print(\"The meadian of\", n, \"is:\", med)\n",
    "print(\"=====================================================\\n\")\n",
    "print(\"Teh standart deviation of\", n, \"is:\", stand)"
   ]
  },
  {
   "cell_type": "code",
   "execution_count": null,
   "id": "thermal-mississippi",
   "metadata": {},
   "outputs": [],
   "source": []
  },
  {
   "cell_type": "markdown",
   "id": "equal-lawyer",
   "metadata": {},
   "source": [
    "### Exercise 14:\n",
    "Find the maximum and minimum values in a NumPy array.\n",
    "\n",
    "```python\n",
    "# Exercise 14\n",
    "```\n",
    "\n",
    "---"
   ]
  },
  {
   "cell_type": "code",
   "execution_count": 89,
   "id": "ancient-humanity",
   "metadata": {},
   "outputs": [
    {
     "name": "stdout",
     "output_type": "stream",
     "text": [
      "[44 29 46 43 38 47 43]\n",
      "[43 43 41 46 47 41]\n",
      "[ 1  2  5 14 14  3  1]\n",
      "[1 6 2 3 1 9]\n"
     ]
    }
   ],
   "source": [
    "import numpy as np\n",
    "n=np.random.randint(50, size=(6,7))\n",
    "print(np.max(n, axis=0))#print the maximum element in each column\n",
    "print(np.max(n, axis=1))#print the maximum element in each row\n",
    "print(np.min(n, axis=0))#...\n",
    "print(np.min(n, axis=1))#..."
   ]
  },
  {
   "cell_type": "markdown",
   "id": "prostate-coffee",
   "metadata": {},
   "source": [
    "### Exercise 15:\n",
    "Create a NumPy array of 20 random integers and find the index of the maximum value.\n",
    "\n",
    "```python\n",
    "# Exercise 15\n",
    "```\n",
    "\n",
    "---"
   ]
  },
  {
   "cell_type": "code",
   "execution_count": 100,
   "id": "damaged-reflection",
   "metadata": {},
   "outputs": [
    {
     "name": "stdout",
     "output_type": "stream",
     "text": [
      "[[12  7 13  3  7  5  9]\n",
      " [19  3  2  5  6 16  0]\n",
      " [ 0 13  9  1 11 16  3]\n",
      " [ 1  7  3  7  1 15 16]\n",
      " [14  3  2 14 10 13  7]]\n"
     ]
    },
    {
     "data": {
      "text/plain": [
       "7"
      ]
     },
     "execution_count": 100,
     "metadata": {},
     "output_type": "execute_result"
    }
   ],
   "source": [
    "import numpy as np\n",
    "n=np.random.randint(20, size=(5,7))\n",
    "print(n)\n",
    "np.argmax(n)"
   ]
  },
  {
   "cell_type": "markdown",
   "id": "everyday-client",
   "metadata": {},
   "source": [
    "### Exercise 16:\n",
    "Create a NumPy array and reverse its elements.\n",
    "\n",
    "```python\n",
    "# Exercise 16\n",
    "```\n",
    "\n",
    "---"
   ]
  },
  {
   "cell_type": "code",
   "execution_count": 104,
   "id": "liked-festival",
   "metadata": {},
   "outputs": [
    {
     "data": {
      "text/plain": [
       "array([[ 1.00000000e+00,  3.33066907e-16, -2.22044605e-16,\n",
       "         1.11022302e-16,  1.11022302e-16, -5.55111512e-17,\n",
       "         2.22044605e-16],\n",
       "       [ 0.00000000e+00,  1.00000000e+00,  0.00000000e+00,\n",
       "        -2.22044605e-16, -2.22044605e-16,  5.55111512e-17,\n",
       "         6.66133815e-16],\n",
       "       [-1.33226763e-15,  7.77156117e-16,  1.00000000e+00,\n",
       "         2.22044605e-16,  3.33066907e-16,  6.10622664e-16,\n",
       "         4.44089210e-16],\n",
       "       [ 4.44089210e-16,  2.22044605e-16, -2.22044605e-16,\n",
       "         1.00000000e+00,  1.11022302e-16,  1.11022302e-16,\n",
       "         0.00000000e+00],\n",
       "       [-3.77475828e-15,  1.77635684e-15, -2.22044605e-16,\n",
       "        -1.11022302e-16,  1.00000000e+00,  1.66533454e-16,\n",
       "        -1.11022302e-16],\n",
       "       [-6.66133815e-16,  1.88737914e-15,  0.00000000e+00,\n",
       "         1.11022302e-16,  4.44089210e-16,  1.00000000e+00,\n",
       "         1.11022302e-16],\n",
       "       [ 1.83186799e-15,  3.05311332e-16, -2.77555756e-17,\n",
       "         3.60822483e-16, -9.71445147e-17,  0.00000000e+00,\n",
       "         1.00000000e+00]])"
      ]
     },
     "execution_count": 104,
     "metadata": {},
     "output_type": "execute_result"
    }
   ],
   "source": [
    "import numpy as np\n",
    "n=np.random.randint(20, size=(7,7))\n",
    "n1=np.linalg.inv(n)\n",
    "#np.dot(n,n1)"
   ]
  },
  {
   "cell_type": "markdown",
   "id": "generic-punch",
   "metadata": {},
   "source": [
    "### Exercise 17:\n",
    "Create a 3x3 matrix and multiply it element-wise by another 3x3 matrix.\n",
    "\n",
    "```python\n",
    "# Exercise 17\n",
    "```\n",
    "\n",
    "---"
   ]
  },
  {
   "cell_type": "code",
   "execution_count": 106,
   "id": "minimal-wilderness",
   "metadata": {},
   "outputs": [
    {
     "data": {
      "text/plain": [
       "array([[ 49, 114,  13],\n",
       "       [178, 137,  83],\n",
       "       [ 99, 133,  50]])"
      ]
     },
     "execution_count": 106,
     "metadata": {},
     "output_type": "execute_result"
    }
   ],
   "source": [
    "import numpy as np\n",
    "a=np.random.randint(20, size=(3,3))\n",
    "b=np.random.randint(10, size=(3,3))\n",
    "np.dot(a,b)"
   ]
  },
  {
   "cell_type": "markdown",
   "id": "broke-theater",
   "metadata": {},
   "source": [
    "### Exercise 18:\n",
    "Create a diagonal matrix from a given 1D array.\n",
    "\n",
    "```python\n",
    "# Exercise 18\n",
    "```\n",
    "\n",
    "---"
   ]
  },
  {
   "cell_type": "code",
   "execution_count": 112,
   "id": "noble-faith",
   "metadata": {},
   "outputs": [
    {
     "name": "stdout",
     "output_type": "stream",
     "text": [
      "[16 14 16 19 14  4 17  9 18 19] \n",
      " [[16  0  0  0  0  0  0  0  0  0]\n",
      " [ 0 14  0  0  0  0  0  0  0  0]\n",
      " [ 0  0 16  0  0  0  0  0  0  0]\n",
      " [ 0  0  0 19  0  0  0  0  0  0]\n",
      " [ 0  0  0  0 14  0  0  0  0  0]\n",
      " [ 0  0  0  0  0  4  0  0  0  0]\n",
      " [ 0  0  0  0  0  0 17  0  0  0]\n",
      " [ 0  0  0  0  0  0  0  9  0  0]\n",
      " [ 0  0  0  0  0  0  0  0 18  0]\n",
      " [ 0  0  0  0  0  0  0  0  0 19]]\n"
     ]
    }
   ],
   "source": [
    "import numpy as np\n",
    "a=np.random.randint(20, size=(10,))\n",
    "x=np.diag(a)\n",
    "print(a,\"\\n\",x)"
   ]
  },
  {
   "cell_type": "markdown",
   "id": "streaming-sally",
   "metadata": {},
   "source": [
    "### Exercise 19:\n",
    "Perform matrix multiplication on two 2D NumPy arrays.\n",
    "\n",
    "```python\n",
    "# Exercise 19\n",
    "```\n",
    "\n",
    "---"
   ]
  },
  {
   "cell_type": "code",
   "execution_count": 115,
   "id": "loving-matter",
   "metadata": {},
   "outputs": [
    {
     "name": "stdout",
     "output_type": "stream",
     "text": [
      "[[ 2 16]\n",
      " [ 8 18]] \n",
      " [[8 5]\n",
      " [9 3]]\n",
      "[[160  58]\n",
      " [226  94]]\n"
     ]
    }
   ],
   "source": [
    "import numpy as np\n",
    "a=np.random.randint(20, size=(2,2))\n",
    "b=np.random.randint(20, size=(2,2))\n",
    "print(a,\"\\n\", b)\n",
    "print(np.dot(a,b))"
   ]
  },
  {
   "cell_type": "markdown",
   "id": "flexible-entry",
   "metadata": {},
   "source": [
    "### Exercise 20:\n",
    "Flatten a 2D NumPy array into a 1D array.\n",
    "\n",
    "```python\n",
    "# Exercise 20\n",
    "```\n",
    "\n",
    "---"
   ]
  },
  {
   "cell_type": "code",
   "execution_count": 124,
   "id": "optional-hypothesis",
   "metadata": {},
   "outputs": [
    {
     "name": "stdout",
     "output_type": "stream",
     "text": [
      "[[ 4 19]\n",
      " [14 18]] \n",
      " [ 4 19 14 18]\n"
     ]
    }
   ],
   "source": [
    "import numpy as np\n",
    "a=np.random.randint(20, size=(2,2))\n",
    "x=np.reshape(a, newshape=(4,))\n",
    "print(a,\"\\n\", x)"
   ]
  },
  {
   "cell_type": "markdown",
   "id": "million-scheduling",
   "metadata": {},
   "source": [
    "### Exercise 21:\n",
    "Stack two NumPy arrays vertically.\n",
    "\n",
    "```python\n",
    "# Exercise 21\n",
    "```\n",
    "\n",
    "---"
   ]
  },
  {
   "cell_type": "code",
   "execution_count": 149,
   "id": "certain-radar",
   "metadata": {},
   "outputs": [
    {
     "name": "stdout",
     "output_type": "stream",
     "text": [
      "[[ 7 17]\n",
      " [ 4 16]] \n",
      " [[ 1  1]\n",
      " [16  6]]\n",
      "=============================================\n",
      "\n",
      "[[ 7 17]\n",
      " [ 4 16]\n",
      " [ 1  1]\n",
      " [16  6]]\n"
     ]
    }
   ],
   "source": [
    "import numpy as np\n",
    "a=np.random.randint(20, size=(2,2))\n",
    "b=np.random.randint(20, size=(2,2))\n",
    "c=np.vstack((a,b))\n",
    "print(a,\"\\n\",b)\n",
    "print(\"=============================================\\n\")\n",
    "print(c)"
   ]
  },
  {
   "cell_type": "markdown",
   "id": "hindu-metro",
   "metadata": {},
   "source": [
    "### Exercise 22:\n",
    "Stack two NumPy arrays horizontally.\n",
    "\n",
    "```python\n",
    "# Exercise 22\n",
    "```\n",
    "\n",
    "---"
   ]
  },
  {
   "cell_type": "code",
   "execution_count": 148,
   "id": "blind-avatar",
   "metadata": {},
   "outputs": [
    {
     "name": "stdout",
     "output_type": "stream",
     "text": [
      "[[ 5 19]\n",
      " [ 1 11]] \n",
      " [[17 17]\n",
      " [18  2]]\n",
      "=============================================\n",
      "\n",
      "[[ 5 19 17 17]\n",
      " [ 1 11 18  2]]\n"
     ]
    }
   ],
   "source": [
    "import numpy as np\n",
    "a=np.random.randint(20, size=(2,2))\n",
    "b=np.random.randint(20, size=(2,2))\n",
    "c=np.hstack((a,b))\n",
    "print(a,\"\\n\",b)\n",
    "print(\"=============================================\\n\")\n",
    "print(c)"
   ]
  },
  {
   "cell_type": "markdown",
   "id": "incorporated-foundation",
   "metadata": {},
   "source": [
    "### Exercise 23:\n",
    "Split a NumPy array into multiple sub-arrays.\n",
    "\n",
    "```python\n",
    "# Exercise 23\n",
    "```\n",
    "\n",
    "---"
   ]
  },
  {
   "cell_type": "code",
   "execution_count": 146,
   "id": "accepted-oasis",
   "metadata": {},
   "outputs": [
    {
     "name": "stdout",
     "output_type": "stream",
     "text": [
      "[[15  0 19 18  0]\n",
      " [10  1  6 18 19]\n",
      " [14 12  4  8 17]\n",
      " [ 1 12  0 10 17]\n",
      " [ 9 14 14  2 17]]\n"
     ]
    },
    {
     "data": {
      "text/plain": [
       "[array([[15,  0, 19, 18,  0],\n",
       "        [10,  1,  6, 18, 19]]),\n",
       " array([[14, 12,  4,  8, 17]]),\n",
       " array([[ 1, 12,  0, 10, 17],\n",
       "        [ 9, 14, 14,  2, 17]])]"
      ]
     },
     "execution_count": 146,
     "metadata": {},
     "output_type": "execute_result"
    }
   ],
   "source": [
    "import numpy as np\n",
    "a=np.random.randint(20, size=(5,5))\n",
    "print(a)\n",
    "np.split(a, (2,3))"
   ]
  },
  {
   "cell_type": "markdown",
   "id": "substantial-young",
   "metadata": {},
   "source": [
    "### Exercise 24:\n",
    "Generate a random NumPy array and round each element to two decimal places.\n",
    "\n",
    "```python\n",
    "# Exercise 24\n",
    "```\n",
    "\n",
    "---"
   ]
  },
  {
   "cell_type": "code",
   "execution_count": 162,
   "id": "owned-parish",
   "metadata": {},
   "outputs": [
    {
     "name": "stdout",
     "output_type": "stream",
     "text": [
      "[0.95112138 0.19470656 0.47649233 0.34117173 0.57268317 0.83524512\n",
      " 0.71331899 0.52478598 0.85421648 0.54869767 0.50386207 0.14525114\n",
      " 0.7324633  0.11963518 0.55063467 0.62942909 0.19425012 0.86315045\n",
      " 0.64275341 0.16345895]\n"
     ]
    },
    {
     "data": {
      "text/plain": [
       "array([0.95, 0.19, 0.48, 0.34, 0.57, 0.84, 0.71, 0.52, 0.85, 0.55, 0.5 ,\n",
       "       0.15, 0.73, 0.12, 0.55, 0.63, 0.19, 0.86, 0.64, 0.16])"
      ]
     },
     "execution_count": 162,
     "metadata": {},
     "output_type": "execute_result"
    }
   ],
   "source": [
    "import numpy as np\n",
    "a=np.random.random(20)\n",
    "print(a)\n",
    "np.round_(a,decimals=2)"
   ]
  },
  {
   "cell_type": "code",
   "execution_count": 153,
   "id": "japanese-shareware",
   "metadata": {},
   "outputs": [
    {
     "name": "stdout",
     "output_type": "stream",
     "text": [
      "Help on function round_ in module numpy:\n",
      "\n",
      "round_(a, decimals=0, out=None)\n",
      "    Round an array to the given number of decimals.\n",
      "    \n",
      "    See Also\n",
      "    --------\n",
      "    around : equivalent function; see for details.\n",
      "\n"
     ]
    }
   ],
   "source": [
    "help(np.round)"
   ]
  },
  {
   "cell_type": "markdown",
   "id": "alternate-bunch",
   "metadata": {},
   "source": [
    "### Exercise 25:\n",
    "Find the unique elements of a NumPy array.\n",
    "\n",
    "```python\n",
    "# Exercise 25\n",
    "```\n",
    "\n",
    "---"
   ]
  },
  {
   "cell_type": "code",
   "execution_count": 165,
   "id": "burning-spank",
   "metadata": {},
   "outputs": [
    {
     "name": "stdout",
     "output_type": "stream",
     "text": [
      "[0.13362384 0.24558845 0.29269049 0.58727788 0.36918177 0.46480738\n",
      " 0.4887352  0.01098047 0.75382203 0.20454249 0.64819762 0.99559852\n",
      " 0.98057856 0.5288756  0.77975582 0.95839904 0.95766583 0.2409898\n",
      " 0.28260345 0.05437845]\n"
     ]
    },
    {
     "data": {
      "text/plain": [
       "array([0.01098047, 0.05437845, 0.13362384, 0.20454249, 0.2409898 ,\n",
       "       0.24558845, 0.28260345, 0.29269049, 0.36918177, 0.46480738,\n",
       "       0.4887352 , 0.5288756 , 0.58727788, 0.64819762, 0.75382203,\n",
       "       0.77975582, 0.95766583, 0.95839904, 0.98057856, 0.99559852])"
      ]
     },
     "execution_count": 165,
     "metadata": {},
     "output_type": "execute_result"
    }
   ],
   "source": [
    "import numpy as np\n",
    "a=np.random.random(20)\n",
    "print(a)\n",
    "np.unique(a)"
   ]
  },
  {
   "cell_type": "markdown",
   "id": "bridal-gothic",
   "metadata": {},
   "source": [
    "### Exercise 26:\n",
    "Replace all elements in a NumPy array that are less than a specific value with that value.\n",
    "\n",
    "```python\n",
    "# Exercise 26\n",
    "```\n",
    "\n",
    "---"
   ]
  },
  {
   "cell_type": "code",
   "execution_count": 173,
   "id": "present-refrigerator",
   "metadata": {},
   "outputs": [
    {
     "name": "stdout",
     "output_type": "stream",
     "text": [
      "[0.45635123 0.46479971 0.14566336 0.31023912 0.09964699 0.14888329\n",
      " 0.02671656 0.41390413 0.85042316 0.91884855 0.95515744 0.19621616\n",
      " 0.6181044  0.43520513 0.19005743 0.58603153 0.40965248 0.05829379\n",
      " 0.68431438 0.18418824]\n",
      "=======================================\n",
      "\n",
      "[0.45635123 0.46479971 0.14566336 0.31023912 0.14566336 0.14888329\n",
      " 0.14566336 0.41390413 0.85042316 0.91884855 0.95515744 0.19621616\n",
      " 0.6181044  0.43520513 0.19005743 0.58603153 0.40965248 0.14566336\n",
      " 0.68431438 0.18418824]\n"
     ]
    }
   ],
   "source": [
    "import numpy as np\n",
    "a=np.random.random(20)\n",
    "print(a)\n",
    "a[a<a[2]]=a[2]\n",
    "print(\"=======================================\\n\")\n",
    "print(a)"
   ]
  },
  {
   "cell_type": "markdown",
   "id": "bizarre-retrieval",
   "metadata": {},
   "source": [
    "### Exercise 27:\n",
    "Find the cumulative sum of the elements in a NumPy array.\n",
    "\n",
    "```python\n",
    "# Exercise 27\n",
    "```\n",
    "\n",
    "---"
   ]
  },
  {
   "cell_type": "code",
   "execution_count": 177,
   "id": "sound-giant",
   "metadata": {},
   "outputs": [
    {
     "name": "stdout",
     "output_type": "stream",
     "text": [
      "[0.60565886 0.94516066 0.85097484 0.21896264 0.02549738 0.49127016\n",
      " 0.66940464 0.0655054  0.2048288  0.21186405 0.9536526  0.19910023\n",
      " 0.11571306 0.64744651 0.08438865 0.23243636 0.42584453 0.34694334\n",
      " 0.0402246  0.68149064]\n",
      "=============================\n",
      "\n",
      "[0.60565886 1.55081952 2.40179436 2.620757   2.64625438 3.13752454\n",
      " 3.80692918 3.87243458 4.07726338 4.28912743 5.24278003 5.44188026\n",
      " 5.55759332 6.20503983 6.28942848 6.52186484 6.94770938 7.29465271\n",
      " 7.33487731 8.01636795]\n"
     ]
    }
   ],
   "source": [
    "import numpy as np\n",
    "a=np.random.random(20)\n",
    "x=np.cumsum(a)\n",
    "print(a)\n",
    "print(\"=============================\\n\")\n",
    "print(x)"
   ]
  },
  {
   "cell_type": "code",
   "execution_count": 178,
   "id": "selected-insured",
   "metadata": {},
   "outputs": [
    {
     "name": "stdout",
     "output_type": "stream",
     "text": [
      "[0.45818154 0.16957169 0.70391447 0.69763447 0.52543451 0.75481925\n",
      " 0.88335333 0.26549486 0.09089573 0.6231358  0.45778489 0.01229237\n",
      " 0.22008567 0.49646869 0.34277333 0.10469643 0.9795841  0.82435822\n",
      " 0.29887565 0.06851836]\n",
      "=============================\n",
      "\n",
      "[0.45818154 0.62775322 1.33166769 2.02930216 2.55473667 3.30955592\n",
      " 4.19290925 4.45840411 4.54929984 5.17243564 5.63022053 5.6425129\n",
      " 5.86259858 6.35906727 6.7018406  6.80653702 7.78612113 8.61047935\n",
      " 8.909355   8.97787336]\n"
     ]
    }
   ],
   "source": [
    "import numpy as np\n",
    "a=np.random.random(20)\n",
    "x=np.cumsum(a, axis=0)\n",
    "print(a)\n",
    "print(\"=============================\\n\")\n",
    "print(x)"
   ]
  },
  {
   "cell_type": "markdown",
   "id": "educated-holiday",
   "metadata": {},
   "source": [
    "### Exercise 28:\n",
    "Create a NumPy array and find the number of non-zero elements in it.\n",
    "\n",
    "```python\n",
    "# Exercise 28\n",
    "```\n",
    "\n",
    "---"
   ]
  },
  {
   "cell_type": "code",
   "execution_count": 192,
   "id": "gentle-switch",
   "metadata": {},
   "outputs": [
    {
     "name": "stdout",
     "output_type": "stream",
     "text": [
      "[0.90470883 0.13193602 0.42031066 0.35296435 0.69798626 0.76238266\n",
      " 0.61975568 0.00548411 0.47727268 0.68104507 0.42567284 0.15517087\n",
      " 0.59949415 0.6551699  0.04847856 0.56947612 0.53151828 0.29284646\n",
      " 0.48624676 0.13515207]\n",
      "20\n"
     ]
    }
   ],
   "source": [
    "import numpy as np\n",
    "a=np.random.random(20)\n",
    "print(a)\n",
    "x=np.count_nonzero(a)\n",
    "print(x)"
   ]
  },
  {
   "cell_type": "markdown",
   "id": "falling-lucas",
   "metadata": {},
   "source": [
    "### Exercise 29:\n",
    "Create a NumPy array of random integers and sort it in ascending order.\n",
    "\n",
    "```python\n",
    "# Exercise 29\n",
    "```\n",
    "\n",
    "---"
   ]
  },
  {
   "cell_type": "code",
   "execution_count": 184,
   "id": "italic-wales",
   "metadata": {},
   "outputs": [
    {
     "name": "stdout",
     "output_type": "stream",
     "text": [
      "[[14 18  6 11]\n",
      " [ 2  3 13 13]\n",
      " [19 14  4 16]\n",
      " [ 4  8  2 13]]\n"
     ]
    },
    {
     "data": {
      "text/plain": [
       "array([ 2,  2,  3,  4,  4,  6,  8, 11, 13, 13, 13, 14, 14, 16, 18, 19])"
      ]
     },
     "execution_count": 184,
     "metadata": {},
     "output_type": "execute_result"
    }
   ],
   "source": [
    "import numpy as np\n",
    "a=np.random.randint(20, size=(4,4))\n",
    "print(a)\n",
    "np.sort(a, axis=None)"
   ]
  },
  {
   "cell_type": "code",
   "execution_count": 181,
   "id": "cellular-interval",
   "metadata": {},
   "outputs": [
    {
     "name": "stdout",
     "output_type": "stream",
     "text": [
      "Help on function sort in module numpy:\n",
      "\n",
      "sort(a, axis=-1, kind=None, order=None)\n",
      "    Return a sorted copy of an array.\n",
      "    \n",
      "    Parameters\n",
      "    ----------\n",
      "    a : array_like\n",
      "        Array to be sorted.\n",
      "    axis : int or None, optional\n",
      "        Axis along which to sort. If None, the array is flattened before\n",
      "        sorting. The default is -1, which sorts along the last axis.\n",
      "    kind : {'quicksort', 'mergesort', 'heapsort', 'stable'}, optional\n",
      "        Sorting algorithm. The default is 'quicksort'. Note that both 'stable'\n",
      "        and 'mergesort' use timsort or radix sort under the covers and, in general,\n",
      "        the actual implementation will vary with data type. The 'mergesort' option\n",
      "        is retained for backwards compatibility.\n",
      "    \n",
      "        .. versionchanged:: 1.15.0.\n",
      "           The 'stable' option was added.\n",
      "    \n",
      "    order : str or list of str, optional\n",
      "        When `a` is an array with fields defined, this argument specifies\n",
      "        which fields to compare first, second, etc.  A single field can\n",
      "        be specified as a string, and not all fields need be specified,\n",
      "        but unspecified fields will still be used, in the order in which\n",
      "        they come up in the dtype, to break ties.\n",
      "    \n",
      "    Returns\n",
      "    -------\n",
      "    sorted_array : ndarray\n",
      "        Array of the same type and shape as `a`.\n",
      "    \n",
      "    See Also\n",
      "    --------\n",
      "    ndarray.sort : Method to sort an array in-place.\n",
      "    argsort : Indirect sort.\n",
      "    lexsort : Indirect stable sort on multiple keys.\n",
      "    searchsorted : Find elements in a sorted array.\n",
      "    partition : Partial sort.\n",
      "    \n",
      "    Notes\n",
      "    -----\n",
      "    The various sorting algorithms are characterized by their average speed,\n",
      "    worst case performance, work space size, and whether they are stable. A\n",
      "    stable sort keeps items with the same key in the same relative\n",
      "    order. The four algorithms implemented in NumPy have the following\n",
      "    properties:\n",
      "    \n",
      "    =========== ======= ============= ============ ========\n",
      "       kind      speed   worst case    work space   stable\n",
      "    =========== ======= ============= ============ ========\n",
      "    'quicksort'    1     O(n^2)            0          no\n",
      "    'heapsort'     3     O(n*log(n))       0          no\n",
      "    'mergesort'    2     O(n*log(n))      ~n/2        yes\n",
      "    'timsort'      2     O(n*log(n))      ~n/2        yes\n",
      "    =========== ======= ============= ============ ========\n",
      "    \n",
      "    .. note:: The datatype determines which of 'mergesort' or 'timsort'\n",
      "       is actually used, even if 'mergesort' is specified. User selection\n",
      "       at a finer scale is not currently available.\n",
      "    \n",
      "    All the sort algorithms make temporary copies of the data when\n",
      "    sorting along any but the last axis.  Consequently, sorting along\n",
      "    the last axis is faster and uses less space than sorting along\n",
      "    any other axis.\n",
      "    \n",
      "    The sort order for complex numbers is lexicographic. If both the real\n",
      "    and imaginary parts are non-nan then the order is determined by the\n",
      "    real parts except when they are equal, in which case the order is\n",
      "    determined by the imaginary parts.\n",
      "    \n",
      "    Previous to numpy 1.4.0 sorting real and complex arrays containing nan\n",
      "    values led to undefined behaviour. In numpy versions >= 1.4.0 nan\n",
      "    values are sorted to the end. The extended sort order is:\n",
      "    \n",
      "      * Real: [R, nan]\n",
      "      * Complex: [R + Rj, R + nanj, nan + Rj, nan + nanj]\n",
      "    \n",
      "    where R is a non-nan real value. Complex values with the same nan\n",
      "    placements are sorted according to the non-nan part if it exists.\n",
      "    Non-nan values are sorted as before.\n",
      "    \n",
      "    .. versionadded:: 1.12.0\n",
      "    \n",
      "    quicksort has been changed to `introsort <https://en.wikipedia.org/wiki/Introsort>`_.\n",
      "    When sorting does not make enough progress it switches to\n",
      "    `heapsort <https://en.wikipedia.org/wiki/Heapsort>`_.\n",
      "    This implementation makes quicksort O(n*log(n)) in the worst case.\n",
      "    \n",
      "    'stable' automatically chooses the best stable sorting algorithm\n",
      "    for the data type being sorted.\n",
      "    It, along with 'mergesort' is currently mapped to\n",
      "    `timsort <https://en.wikipedia.org/wiki/Timsort>`_\n",
      "    or `radix sort <https://en.wikipedia.org/wiki/Radix_sort>`_\n",
      "    depending on the data type.\n",
      "    API forward compatibility currently limits the\n",
      "    ability to select the implementation and it is hardwired for the different\n",
      "    data types.\n",
      "    \n",
      "    .. versionadded:: 1.17.0\n",
      "    \n",
      "    Timsort is added for better performance on already or nearly\n",
      "    sorted data. On random data timsort is almost identical to\n",
      "    mergesort. It is now used for stable sort while quicksort is still the\n",
      "    default sort if none is chosen. For timsort details, refer to\n",
      "    `CPython listsort.txt <https://github.com/python/cpython/blob/3.7/Objects/listsort.txt>`_.\n",
      "    'mergesort' and 'stable' are mapped to radix sort for integer data types. Radix sort is an\n",
      "    O(n) sort instead of O(n log n).\n",
      "    \n",
      "    .. versionchanged:: 1.18.0\n",
      "    \n",
      "    NaT now sorts to the end of arrays for consistency with NaN.\n",
      "    \n",
      "    Examples\n",
      "    --------\n",
      "    >>> a = np.array([[1,4],[3,1]])\n",
      "    >>> np.sort(a)                # sort along the last axis\n",
      "    array([[1, 4],\n",
      "           [1, 3]])\n",
      "    >>> np.sort(a, axis=None)     # sort the flattened array\n",
      "    array([1, 1, 3, 4])\n",
      "    >>> np.sort(a, axis=0)        # sort along the first axis\n",
      "    array([[1, 1],\n",
      "           [3, 4]])\n",
      "    \n",
      "    Use the `order` keyword to specify a field to use when sorting a\n",
      "    structured array:\n",
      "    \n",
      "    >>> dtype = [('name', 'S10'), ('height', float), ('age', int)]\n",
      "    >>> values = [('Arthur', 1.8, 41), ('Lancelot', 1.9, 38),\n",
      "    ...           ('Galahad', 1.7, 38)]\n",
      "    >>> a = np.array(values, dtype=dtype)       # create a structured array\n",
      "    >>> np.sort(a, order='height')                        # doctest: +SKIP\n",
      "    array([('Galahad', 1.7, 38), ('Arthur', 1.8, 41),\n",
      "           ('Lancelot', 1.8999999999999999, 38)],\n",
      "          dtype=[('name', '|S10'), ('height', '<f8'), ('age', '<i4')])\n",
      "    \n",
      "    Sort by age, then height if ages are equal:\n",
      "    \n",
      "    >>> np.sort(a, order=['age', 'height'])               # doctest: +SKIP\n",
      "    array([('Galahad', 1.7, 38), ('Lancelot', 1.8999999999999999, 38),\n",
      "           ('Arthur', 1.8, 41)],\n",
      "          dtype=[('name', '|S10'), ('height', '<f8'), ('age', '<i4')])\n",
      "\n"
     ]
    }
   ],
   "source": [
    "help(np.sort)"
   ]
  },
  {
   "cell_type": "markdown",
   "id": "standing-basement",
   "metadata": {},
   "source": [
    "### Exercise 30:\n",
    "Find the row-wise and column-wise sum of a 3x3 matrix.\n",
    "\n",
    "```python\n",
    "# Exercise 30\n",
    "```\n",
    "\n",
    "---"
   ]
  },
  {
   "cell_type": "code",
   "execution_count": 197,
   "id": "revised-congo",
   "metadata": {},
   "outputs": [
    {
     "name": "stdout",
     "output_type": "stream",
     "text": [
      "[[ 9 19 12]\n",
      " [ 3 14 12]\n",
      " [ 9 10  5]]\n",
      "==============================================\n",
      "\n",
      "[40 29 24] \n",
      " [21 43 29]\n"
     ]
    }
   ],
   "source": [
    "import numpy as np\n",
    "a=np.random.randint(20, size=(3,3))\n",
    "print(a)\n",
    "row=np.sum(a, axis=1)\n",
    "col=np.sum(a, axis=0)\n",
    "print(\"==============================================\\n\")\n",
    "print(row,\"\\n\",col)"
   ]
  },
  {
   "cell_type": "markdown",
   "id": "mighty-uruguay",
   "metadata": {},
   "source": [
    "### Exercise 31:\n",
    "Generate a 2D NumPy array with random values and normalize it (scale the values between 0 and 1).\n",
    "\n",
    "```python\n",
    "# Exercise 31\n",
    "```\n",
    "\n",
    "---"
   ]
  },
  {
   "cell_type": "code",
   "execution_count": 206,
   "id": "christian-request",
   "metadata": {},
   "outputs": [
    {
     "name": "stdout",
     "output_type": "stream",
     "text": [
      "[[ 5 18]\n",
      " [ 2 15]]\n",
      "[[0.1875 1.    ]\n",
      " [0.     0.8125]]\n"
     ]
    }
   ],
   "source": [
    "import numpy as np\n",
    "a=np.random.randint(20, size=(2,2))\n",
    "print(a)\n",
    "a_norm=(a-np.min(a))/(np.max(a)-np.min(a))\n",
    "print(a_norm)"
   ]
  },
  {
   "cell_type": "markdown",
   "id": "ideal-moral",
   "metadata": {},
   "source": [
    "### Exercise 32:\n",
    "Create two NumPy arrays and find the dot product.\n",
    "\n",
    "```python\n",
    "# Exercise 32\n",
    "```\n",
    "\n",
    "---"
   ]
  },
  {
   "cell_type": "code",
   "execution_count": 209,
   "id": "traditional-morris",
   "metadata": {},
   "outputs": [
    {
     "name": "stdout",
     "output_type": "stream",
     "text": [
      "[[ 81  48]\n",
      " [128 144]]\n"
     ]
    }
   ],
   "source": [
    "import numpy as np\n",
    "a=np.random.randint(20, size=(2,2))\n",
    "b=np.random.randint(20, size=(2,2))\n",
    "print(np.dot(a,b))"
   ]
  },
  {
   "cell_type": "markdown",
   "id": "elect-brief",
   "metadata": {},
   "source": [
    "### Exercise 33:\n",
    "Find the trace of a square NumPy matrix.\n",
    "\n",
    "```python\n",
    "# Exercise 33\n",
    "```\n",
    "\n",
    "---"
   ]
  },
  {
   "cell_type": "code",
   "execution_count": 210,
   "id": "inner-desert",
   "metadata": {},
   "outputs": [
    {
     "name": "stdout",
     "output_type": "stream",
     "text": [
      "27\n"
     ]
    }
   ],
   "source": [
    "import numpy as np\n",
    "a=np.random.randint(20, size=(2,2))\n",
    "v=np.trace(a)\n",
    "print(v)"
   ]
  },
  {
   "cell_type": "markdown",
   "id": "adjacent-warren",
   "metadata": {},
   "source": [
    "### Exercise 34:\n",
    "Create a 2D array and swap two rows.\n",
    "\n",
    "```python\n",
    "# Exercise 34\n",
    "```\n",
    "\n",
    "---"
   ]
  },
  {
   "cell_type": "code",
   "execution_count": 219,
   "id": "featured-gardening",
   "metadata": {},
   "outputs": [
    {
     "name": "stdout",
     "output_type": "stream",
     "text": [
      "[[ 0  9]\n",
      " [15  6]]\n"
     ]
    },
    {
     "data": {
      "text/plain": [
       "array([[ 0, 15],\n",
       "       [ 9,  6]])"
      ]
     },
     "execution_count": 219,
     "metadata": {},
     "output_type": "execute_result"
    }
   ],
   "source": [
    "import numpy as np\n",
    "a=np.random.randint(20, size=(2,2))\n",
    "print(a)\n",
    "np.swapaxes(a,axis1=1, axis2=0)"
   ]
  },
  {
   "cell_type": "markdown",
   "id": "rational-license",
   "metadata": {},
   "source": [
    "### Exercise 35:\n",
    "Create a 1D NumPy array and convert it into a column vector.\n",
    "\n",
    "```python\n",
    "# Exercise 35\n",
    "```\n",
    "\n",
    "---"
   ]
  },
  {
   "cell_type": "code",
   "execution_count": 226,
   "id": "grave-flour",
   "metadata": {},
   "outputs": [
    {
     "name": "stdout",
     "output_type": "stream",
     "text": [
      "[0 1 2 3 4 5 6 7 8 9]\n",
      "[[0]\n",
      " [1]\n",
      " [2]\n",
      " [3]\n",
      " [4]\n",
      " [5]\n",
      " [6]\n",
      " [7]\n",
      " [8]\n",
      " [9]]\n"
     ]
    }
   ],
   "source": [
    "import numpy as np\n",
    "a=np.arange(10)\n",
    "b=a.reshape(10,1)\n",
    "print(a)\n",
    "print(b)"
   ]
  },
  {
   "cell_type": "markdown",
   "id": "seven-translation",
   "metadata": {},
   "source": [
    "### Exercise 36:\n",
    "Find the determinant of a 3x3 matrix.\n",
    "\n",
    "```python\n",
    "# Exercise 36\n",
    "```\n",
    "\n",
    "---"
   ]
  },
  {
   "cell_type": "code",
   "execution_count": 229,
   "id": "spiritual-peter",
   "metadata": {},
   "outputs": [
    {
     "name": "stdout",
     "output_type": "stream",
     "text": [
      "[[12 13 18]\n",
      " [10 14  6]\n",
      " [ 7  9 16]]\n",
      "362.00000000000017\n"
     ]
    }
   ],
   "source": [
    "import numpy as np\n",
    "a=np.random.randint(20, size=(3,3))\n",
    "print(a)\n",
    "x=np.linalg.det(a)\n",
    "print(x)"
   ]
  },
  {
   "cell_type": "markdown",
   "id": "conventional-welding",
   "metadata": {},
   "source": [
    "### Exercise 37:\n",
    "Find the eigenvalues and eigenvectors of a 2x2 matrix.\n",
    "\n",
    "```python\n",
    "# Exercise 37\n",
    "```\n",
    "\n",
    "---"
   ]
  },
  {
   "cell_type": "code",
   "execution_count": 245,
   "id": "objective-tucson",
   "metadata": {},
   "outputs": [
    {
     "name": "stdout",
     "output_type": "stream",
     "text": [
      "[[ 0  4]\n",
      " [17 16]]\n",
      "[-3.48912529 19.48912529]\n"
     ]
    }
   ],
   "source": [
    "import numpy as np\n",
    "a=np.random.randint(20, size=(2,2))\n",
    "x=np.linalg.eigvals(a)\n",
    "print(a)\n",
    "print(x)"
   ]
  },
  {
   "cell_type": "markdown",
   "id": "dressed-designation",
   "metadata": {},
   "source": [
    "### Exercise 38:\n",
    "Solve a system of linear equations using NumPy.\n",
    "\n",
    "```python\n",
    "# Exercise 38\n",
    "```\n",
    "\n",
    "---"
   ]
  },
  {
   "cell_type": "code",
   "execution_count": 251,
   "id": "sustained-mayor",
   "metadata": {},
   "outputs": [
    {
     "name": "stdout",
     "output_type": "stream",
     "text": [
      "[-0.01419966  0.18416523 -0.00387263]\n"
     ]
    }
   ],
   "source": [
    "import numpy as np\n",
    "a=np.random.randint(20, size=(3,3))\n",
    "b=np.arange(1,4,1)\n",
    "x=np.linalg.inv(a).dot(b)\n",
    "print(x)"
   ]
  },
  {
   "cell_type": "code",
   "execution_count": null,
   "id": "manufactured-nature",
   "metadata": {},
   "outputs": [],
   "source": []
  },
  {
   "cell_type": "markdown",
   "id": "shared-advancement",
   "metadata": {},
   "source": [
    "### Exercise 39:\n",
    "Add Gaussian noise to a NumPy array.\n",
    "\n",
    "```python\n",
    "# Exercise 39\n",
    "```\n",
    "\n",
    "---"
   ]
  },
  {
   "cell_type": "code",
   "execution_count": null,
   "id": "metallic-insider",
   "metadata": {},
   "outputs": [],
   "source": []
  },
  {
   "cell_type": "code",
   "execution_count": 254,
   "id": "systematic-longitude",
   "metadata": {},
   "outputs": [
    {
     "name": "stdout",
     "output_type": "stream",
     "text": [
      "Help on function extract in module numpy:\n",
      "\n",
      "extract(condition, arr)\n",
      "    Return the elements of an array that satisfy some condition.\n",
      "    \n",
      "    This is equivalent to ``np.compress(ravel(condition), ravel(arr))``.  If\n",
      "    `condition` is boolean ``np.extract`` is equivalent to ``arr[condition]``.\n",
      "    \n",
      "    Note that `place` does the exact opposite of `extract`.\n",
      "    \n",
      "    Parameters\n",
      "    ----------\n",
      "    condition : array_like\n",
      "        An array whose nonzero or True entries indicate the elements of `arr`\n",
      "        to extract.\n",
      "    arr : array_like\n",
      "        Input array of the same size as `condition`.\n",
      "    \n",
      "    Returns\n",
      "    -------\n",
      "    extract : ndarray\n",
      "        Rank 1 array of values from `arr` where `condition` is True.\n",
      "    \n",
      "    See Also\n",
      "    --------\n",
      "    take, put, copyto, compress, place\n",
      "    \n",
      "    Examples\n",
      "    --------\n",
      "    >>> arr = np.arange(12).reshape((3, 4))\n",
      "    >>> arr\n",
      "    array([[ 0,  1,  2,  3],\n",
      "           [ 4,  5,  6,  7],\n",
      "           [ 8,  9, 10, 11]])\n",
      "    >>> condition = np.mod(arr, 3)==0\n",
      "    >>> condition\n",
      "    array([[ True, False, False,  True],\n",
      "           [False, False,  True, False],\n",
      "           [False,  True, False, False]])\n",
      "    >>> np.extract(condition, arr)\n",
      "    array([0, 3, 6, 9])\n",
      "    \n",
      "    \n",
      "    If `condition` is boolean:\n",
      "    \n",
      "    >>> arr[condition]\n",
      "    array([0, 3, 6, 9])\n",
      "\n"
     ]
    }
   ],
   "source": [
    "import numpy as np\n",
    "a=np.random.randint(20, size=(4,4))\n",
    "d=np.extract\n",
    "help(np.extract)"
   ]
  },
  {
   "cell_type": "markdown",
   "id": "forward-venice",
   "metadata": {},
   "source": [
    "### Exercise 41:\n",
    "Generate a NumPy array of 100 random values and clip the values to a range between 10 and 50.\n",
    "\n",
    "```python\n",
    "# Exercise 41\n",
    "```\n",
    "\n",
    "---"
   ]
  },
  {
   "cell_type": "code",
   "execution_count": 244,
   "id": "marked-campaign",
   "metadata": {},
   "outputs": [
    {
     "name": "stdout",
     "output_type": "stream",
     "text": [
      "[0.04429553 0.59486176 0.06274479 0.94617157 0.24833879 0.7316151\n",
      " 0.43406716 0.50530569 0.87566005 0.40453619 0.16039545 0.52069685\n",
      " 0.11701256 0.74158071 0.54491624 0.54454639 0.89401612 0.25114468\n",
      " 0.80285484 0.08243555 0.40381276 0.37355116 0.10246557 0.48229717\n",
      " 0.51767738 0.6014889  0.42739061 0.78106615 0.88597365 0.09597482\n",
      " 0.17012956 0.78900268 0.78618717 0.76922657 0.90854068 0.93184381\n",
      " 0.47255096 0.92851206 0.34554312 0.58174037 0.55922334 0.71543996\n",
      " 0.13507433 0.73546137 0.83088678 0.24754762 0.72919408 0.12608155\n",
      " 0.27902842 0.2639147  0.03454087 0.07537106 0.76100534 0.0058047\n",
      " 0.69003766 0.88161629 0.61032643 0.53719794 0.13790481 0.85487029\n",
      " 0.19503109 0.75997821 0.99220444 0.00902117 0.11600188 0.40810695\n",
      " 0.9663106  0.3368816  0.10744217 0.78703161 0.47757929 0.20591039\n",
      " 0.38212615 0.15883472 0.09103531 0.5960876  0.47893048 0.09218887\n",
      " 0.80525748 0.49582885 0.37441498 0.6260525  0.07887209 0.88136938\n",
      " 0.14174925 0.05052373 0.53565208 0.49871688 0.81198785 0.69483594\n",
      " 0.79490207 0.34573194 0.83315585 0.25026959 0.20190984 0.72348164\n",
      " 0.32844249 0.95561589 0.29571477 0.68481144]\n"
     ]
    },
    {
     "data": {
      "text/plain": [
       "array([10., 10., 10., 10., 10., 10., 10., 10., 10., 10., 10., 10., 10.,\n",
       "       10., 10., 10., 10., 10., 10., 10., 10., 10., 10., 10., 10., 10.,\n",
       "       10., 10., 10., 10., 10., 10., 10., 10., 10., 10., 10., 10., 10.,\n",
       "       10., 10., 10., 10., 10., 10., 10., 10., 10., 10., 10., 10., 10.,\n",
       "       10., 10., 10., 10., 10., 10., 10., 10., 10., 10., 10., 10., 10.,\n",
       "       10., 10., 10., 10., 10., 10., 10., 10., 10., 10., 10., 10., 10.,\n",
       "       10., 10., 10., 10., 10., 10., 10., 10., 10., 10., 10., 10., 10.,\n",
       "       10., 10., 10., 10., 10., 10., 10., 10., 10.])"
      ]
     },
     "execution_count": 244,
     "metadata": {},
     "output_type": "execute_result"
    }
   ],
   "source": [
    "import numpy as np\n",
    "a=np.random.random(100)\n",
    "print(a)\n",
    "np.clip(a, 10, 50, out=None)"
   ]
  },
  {
   "cell_type": "markdown",
   "id": "outdoor-strip",
   "metadata": {},
   "source": [
    "### Exercise 42:\n",
    "Create a 2D NumPy array and replace all negative values with zero.\n",
    "\n",
    "```python\n",
    "# Exercise 42\n",
    "```\n",
    "\n",
    "---"
   ]
  },
  {
   "cell_type": "code",
   "execution_count": 237,
   "id": "absent-gather",
   "metadata": {},
   "outputs": [
    {
     "name": "stdout",
     "output_type": "stream",
     "text": [
      "[[0 0]\n",
      " [0 1]]\n"
     ]
    }
   ],
   "source": [
    "import numpy as np\n",
    "a=np.arange(-2,2,1).reshape(2,2)\n",
    "a[a<0]=0\n",
    "print(a)"
   ]
  },
  {
   "cell_type": "markdown",
   "id": "judicial-funeral",
   "metadata": {},
   "source": [
    "### Exercise 43:\n",
    "Find the inner and outer products of two NumPy arrays.\n",
    "\n",
    "```python\n",
    "# Exercise 43\n",
    "```\n",
    "\n",
    "---"
   ]
  },
  {
   "cell_type": "code",
   "execution_count": 247,
   "id": "solid-abortion",
   "metadata": {},
   "outputs": [
    {
     "name": "stdout",
     "output_type": "stream",
     "text": [
      "[[622 371 329]\n",
      " [401 286 222]\n",
      " [715 398 390]]\n",
      "[[198  99 121 187 165  99 209  44  88]\n",
      " [288 144 176 272 240 144 304  64 128]\n",
      " [144  72  88 136 120  72 152  32  64]\n",
      " [144  72  88 136 120  72 152  32  64]\n",
      " [252 126 154 238 210 126 266  56 112]\n",
      " [ 18   9  11  17  15   9  19   4   8]\n",
      " [342 171 209 323 285 171 361  76 152]\n",
      " [234 117 143 221 195 117 247  52 104]\n",
      " [144  72  88 136 120  72 152  32  64]]\n"
     ]
    }
   ],
   "source": [
    "import numpy as np\n",
    "a=np.random.randint(20, size=(3,3))\n",
    "b=np.random.randint(20, size=(3,3))\n",
    "print(a.dot(b))#inner product\n",
    "print(np.outer(a,b))#outer product"
   ]
  },
  {
   "cell_type": "markdown",
   "id": "guilty-database",
   "metadata": {},
   "source": [
    "### Exercise 44:\n",
    "Calculate the pairwise distances between points in a NumPy array.\n",
    "\n",
    "```python\n",
    "# Exercise 44\n",
    "```\n",
    "\n",
    "---"
   ]
  },
  {
   "cell_type": "markdown",
   "id": "tested-union",
   "metadata": {},
   "source": [
    "### Exercise 45:\n",
    "Create a structured NumPy array with fields for `name`, `age`, and `height`.\n",
    "\n",
    "```python\n",
    "# Exercise 45\n",
    "```\n",
    "\n",
    "---"
   ]
  },
  {
   "cell_type": "markdown",
   "id": "amazing-conducting",
   "metadata": {},
   "source": [
    "### Exercise 46:\n",
    "Create a 5x5 matrix of random integers and count the occurrences of each unique value.\n",
    "\n",
    "```python\n",
    "# Exercise 46\n",
    "```\n",
    "\n",
    "---"
   ]
  },
  {
   "cell_type": "markdown",
   "id": "effective-mixer",
   "metadata": {},
   "source": [
    "### Exercise 47:\n",
    "Generate a random 3x3 NumPy array and subtract the mean of each row from the corresponding row.\n",
    "\n",
    "```python\n",
    "# Exercise 47\n",
    "```\n",
    "\n",
    "---"
   ]
  },
  {
   "cell_type": "markdown",
   "id": "czech-defeat",
   "metadata": {},
   "source": [
    "### Exercise 48:\n",
    "Create a NumPy array of random integers and check if any of the values are greater than 50.\n",
    "\n",
    "```python\n",
    "# Exercise 48\n",
    "```\n",
    "\n",
    "---"
   ]
  },
  {
   "cell_type": "markdown",
   "id": "friendly-residence",
   "metadata": {},
   "source": [
    "### Exercise 49:\n",
    "Calculate the moving average of a 1D NumPy array.\n",
    "\n",
    "```python\n",
    "# Exercise 49\n",
    "```\n",
    "\n",
    "---"
   ]
  },
  {
   "cell_type": "markdown",
   "id": "arctic-cornwall",
   "metadata": {},
   "source": [
    "### Exercise 50:\n",
    "Find the Pearson correlation coefficient between two NumPy arrays.\n",
    "\n",
    "```python\n",
    "# Exercise 50\n",
    "```\n",
    "\n",
    "---"
   ]
  },
  {
   "cell_type": "markdown",
   "id": "alien-defensive",
   "metadata": {},
   "source": [
    "### Exercise 51:\n",
    "Convert a NumPy array of radians to degrees.\n",
    "\n",
    "```python\n",
    "# Exercise 51\n",
    "```\n",
    "\n",
    "---"
   ]
  },
  {
   "cell_type": "markdown",
   "id": "israeli-lotus",
   "metadata": {},
   "source": [
    "### Exercise 52:\n",
    "Create a random NumPy array and compute its variance and standard deviation.\n",
    "\n",
    "```python\n",
    "# Exercise 52\n",
    "```\n",
    "\n",
    "---"
   ]
  },
  {
   "cell_type": "markdown",
   "id": "regional-brush",
   "metadata": {},
   "source": [
    "### Exercise 53:\n",
    "Create a 2D NumPy array and find the indices of the maximum values along each axis.\n",
    "\n",
    "```python\n",
    "# Exercise 53\n",
    "```\n",
    "\n",
    "---"
   ]
  },
  {
   "cell_type": "markdown",
   "id": "upper-mailman",
   "metadata": {},
   "source": [
    "### Exercise 54:\n",
    "Compute the inverse of a 2x2 NumPy matrix.\n",
    "\n",
    "```python\n",
    "# Exercise 54\n",
    "```\n",
    "\n",
    "---"
   ]
  },
  {
   "cell_type": "markdown",
   "id": "steady-factory",
   "metadata": {},
   "source": [
    "### Exercise 55:\n",
    "Create a NumPy array of 10 random values and standardize it (mean 0, variance 1).\n",
    "\n",
    "```python\n",
    "# Exercise 55\n",
    "```\n",
    "\n",
    "---"
   ]
  },
  {
   "cell_type": "markdown",
   "id": "sapphire-repair",
   "metadata": {},
   "source": [
    "### Exercise 56:\n",
    "Perform element-wise addition and subtraction on two NumPy arrays.\n",
    "\n",
    "```python\n",
    "# Exercise 56\n",
    "```\n",
    "\n",
    "---"
   ]
  },
  {
   "cell_type": "markdown",
   "id": "recent-boring",
   "metadata": {},
   "source": [
    "### Exercise 57:\n",
    "Create a NumPy array of random values and find the maximum element's index.\n",
    "\n",
    "```python\n",
    "# Exercise 57\n",
    "```\n",
    "\n",
    "---"
   ]
  },
  {
   "cell_type": "markdown",
   "id": "inappropriate-complement",
   "metadata": {},
   "source": [
    "### Exercise 58:\n",
    "Create a 3x3 NumPy array and rotate it by 90 degrees.\n",
    "\n",
    "```python\n",
    "# Exercise 58\n",
    "```\n",
    "\n",
    "---"
   ]
  },
  {
   "cell_type": "markdown",
   "id": "nuclear-tuning",
   "metadata": {},
   "source": [
    "### Exercise 59:\n",
    "Compute the Frobenius norm of a matrix.\n",
    "\n",
    "```python\n",
    "# Exercise 59\n",
    "```\n",
    "\n",
    "---"
   ]
  },
  {
   "cell_type": "markdown",
   "id": "9a78d71c",
   "metadata": {},
   "source": [
    "### Exercise 60:\n",
    "Create a 3D NumPy array and slice out a subarray.\n",
    "\n",
    "```python\n",
    "# Exercise 60\n",
    "```\n",
    "\n",
    "---"
   ]
  }
 ],
 "metadata": {
  "kernelspec": {
   "display_name": "Python 3",
   "language": "python",
   "name": "python3"
  },
  "language_info": {
   "codemirror_mode": {
    "name": "ipython",
    "version": 3
   },
   "file_extension": ".py",
   "mimetype": "text/x-python",
   "name": "python",
   "nbconvert_exporter": "python",
   "pygments_lexer": "ipython3",
   "version": "3.9.2"
  }
 },
 "nbformat": 4,
 "nbformat_minor": 5
}
